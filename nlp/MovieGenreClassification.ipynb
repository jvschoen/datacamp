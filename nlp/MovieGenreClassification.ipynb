{
 "cells": [
  {
   "cell_type": "markdown",
   "metadata": {},
   "source": [
    "# Movie Genre Classification"
   ]
  },
  {
   "cell_type": "markdown",
   "metadata": {},
   "source": [
    "This notebook is meant to show a simple process for multilabel classification of movie genres. It is not intended to show how a full optimized model would look."
   ]
  },
  {
   "cell_type": "markdown",
   "metadata": {},
   "source": [
    "# Dependencies"
   ]
  },
  {
   "cell_type": "code",
   "execution_count": 38,
   "metadata": {},
   "outputs": [],
   "source": [
    "%matplotlib inline\n",
    "import os\n",
    "\n",
    "#Data Science\n",
    "import pandas as pd\n",
    "import numpy as np\n",
    "\n",
    "# This allows using pandas.progress_apply()\n",
    "from tqdm.auto import tqdm\n",
    "tqdm.pandas()\n",
    "\n",
    "# Language packages\n",
    "import re\n",
    "import nltk\n",
    "\n",
    "# SKlearn \n",
    "from sklearn.model_selection import train_test_split\n",
    "# Bag of Words, TFIDF\n",
    "from sklearn.feature_extraction.text import CountVectorizer,  TfidfVectorizer\n",
    "from sklearn.feature_selection import chi2\n",
    "from sklearn.ensemble import RandomForestClassifier\n",
    "from sklearn import metrics\n",
    "\n",
    "import matplotlib.pyplot as plt\n",
    "plt.rcParams['figure.figsize'] = [12, 8]\n",
    "plt.rcParams['figure.dpi'] = 100"
   ]
  },
  {
   "cell_type": "markdown",
   "metadata": {},
   "source": [
    "# Functions"
   ]
  },
  {
   "cell_type": "markdown",
   "metadata": {},
   "source": [
    "## Text Preprocessing"
   ]
  },
  {
   "cell_type": "markdown",
   "metadata": {},
   "source": [
    "Reads in the genre column value, and determines if the genre string appears in the genre description or not. Results in Multi label task"
   ]
  },
  {
   "cell_type": "code",
   "execution_count": 2,
   "metadata": {},
   "outputs": [],
   "source": [
    "def onehot_genre(df_, genre_list):\n",
    "    genre_str = df_['genre']\n",
    "    \n",
    "    for column in genre_list:\n",
    "        if column in genre_str:\n",
    "            df_[column] = 1\n",
    "        else:\n",
    "            df_[column] = 0\n",
    "            \n",
    "    return df_"
   ]
  },
  {
   "cell_type": "markdown",
   "metadata": {},
   "source": [
    "Helper function to conver the one-hot vector into a concatenated string where movie genres are comma separated"
   ]
  },
  {
   "cell_type": "code",
   "execution_count": 3,
   "metadata": {},
   "outputs": [],
   "source": [
    "def decode_genre_multilabel(encoded_row, genre_list_):\n",
    "    encoded_bool = encoded_row.astype(bool)\n",
    "    decoded = np.array(genre_list_)[encoded_bool]\n",
    "    \n",
    "    # This occurs if no label was predicted ie all 0s.\n",
    "    if decoded.shape[0] == 0:\n",
    "        decoded = ['NO VALUE']\n",
    "        \n",
    "    decoded = \", \".join(decoded)\n",
    "    return decoded"
   ]
  },
  {
   "cell_type": "markdown",
   "metadata": {},
   "source": [
    "Wrapper to run the decoder across all rows in dataset"
   ]
  },
  {
   "cell_type": "code",
   "execution_count": 4,
   "metadata": {},
   "outputs": [],
   "source": [
    "def decode_genres(genres_encoded, one_hot_decoder):\n",
    "    decoded_genres = []\n",
    "    \n",
    "    for row in genres_encoded:\n",
    "        decoded_genre = decode_genre_multilabel(row, one_hot_decoder)\n",
    "        decoded_genres.append(decoded_genre)\n",
    "        \n",
    "    return decoded_genres"
   ]
  },
  {
   "cell_type": "markdown",
   "metadata": {},
   "source": [
    "Clean the text"
   ]
  },
  {
   "cell_type": "code",
   "execution_count": 44,
   "metadata": {},
   "outputs": [],
   "source": [
    "def preprocess_text(text, \n",
    "                    stopwords=True, \n",
    "                    stopwords_language=\"english\",\n",
    "                    stem=True, lemmatize=True):\n",
    "    \n",
    "\n",
    "    # removes any non space or non word (punctuation), \n",
    "    # then lowers and strips\n",
    "    text = re.sub(r'[^\\w\\s]', '', str(text).lower().strip())\n",
    "\n",
    "    #tokenize\n",
    "    text_word_list = text.split()\n",
    "\n",
    "    # remove stopwords\n",
    "    if stopwords:\n",
    "        lst_stopwords = nltk.corpus.stopwords.words(stopwords_language)\n",
    "        text_word_list = [word for word in text_word_list \n",
    "                          if word not in lst_stopwords]\n",
    "\n",
    "    # Stemming\n",
    "    if stem:\n",
    "        ps = nltk.stem.porter.PorterStemmer()\n",
    "        text_word_list = [ps.stem(word) for word in text_word_list]\n",
    "\n",
    "    # Lemmatize\n",
    "    if lemmatize:\n",
    "        lem = nltk.stem.wordnet.WordNetLemmatizer()\n",
    "        text_word_list = [lem.lemmatize(word) for word in text_word_list]\n",
    "\n",
    "    text = \" \".join(text_word_list)\n",
    "\n",
    "    return text"
   ]
  },
  {
   "cell_type": "markdown",
   "metadata": {},
   "source": [
    "## Model Evaluation"
   ]
  },
  {
   "cell_type": "markdown",
   "metadata": {},
   "source": [
    "Appends the predictions and actuals to original dataframe along with a column `complete_correct` boolean for whether or not all true labels were uncovered"
   ]
  },
  {
   "cell_type": "code",
   "execution_count": 6,
   "metadata": {},
   "outputs": [],
   "source": [
    "def get_results_table(df_, genre_preds, genre_actuals):\n",
    "    \n",
    "    return (\n",
    "        df_\n",
    "        .assign(\n",
    "            genre_pred=genre_preds,\n",
    "            genre_actual=genre_actuals,\n",
    "            complete_correct=lambda x: x['genre_actual'] == x['genre_pred'])\n",
    "        )"
   ]
  },
  {
   "cell_type": "markdown",
   "metadata": {},
   "source": [
    "## Feature Selection"
   ]
  },
  {
   "cell_type": "code",
   "execution_count": 125,
   "metadata": {},
   "outputs": [],
   "source": [
    "# using chi2 \n",
    "def get_significant_features(y_, word_vector_names, alpha=0.05):\n",
    "\n",
    "    df_features = pd.DataFrame()\n",
    "    for cat in np.unique(y_):\n",
    "        chi_sq, p = chi2(tfidf_train_clean, y==cat)\n",
    "        df_features = (\n",
    "            df_features\n",
    "            .append(\n",
    "                pd.DataFrame({'feature': words, 'score': p, 'y': cat}))\n",
    "            .sort_values(['y', 'score'])\n",
    "            .query(f'score < {alpha}'))\n",
    "    return df_features"
   ]
  },
  {
   "cell_type": "code",
   "execution_count": 183,
   "metadata": {},
   "outputs": [],
   "source": [
    "def get_top_features_by_genre(genre_list_, vectorizer_):\n",
    "    important_features_by_genre = {}\n",
    "    words = vectorizer_.get_feature_names()\n",
    "    for genre in genre_list_:\n",
    "        y = y_train.T[genre_list_.index(genre)]\n",
    "        important_features_by_genre[genre] = get_significant_features(y, words)\n",
    "        \n",
    "    return important_features_by_genre"
   ]
  },
  {
   "cell_type": "code",
   "execution_count": 191,
   "metadata": {},
   "outputs": [],
   "source": [
    "def get_feature_set(top_features_by_genre, set_type='union', print_summary=True):\n",
    "    \n",
    "    if set_type == 'union':\n",
    "        feature_set = set()\n",
    "        for key in top_features_by_genre:\n",
    "            [feature_set.add(feature) for feature in \n",
    "             important_features_by_genre[key]['feature']]\n",
    "            if print_summary:\n",
    "                print(f\"\\nTop imporant words in {key} plots:\")\n",
    "                print(important_features_by_genre[key]\n",
    "                      .head(5)\n",
    "                      .values)\n",
    "    else:\n",
    "        print(f\"{set_type} not defined as a set type\")\n",
    "        return\n",
    "    \n",
    "    return feature_set\n",
    "    \n",
    "    "
   ]
  },
  {
   "cell_type": "markdown",
   "metadata": {},
   "source": [
    "# Load Data"
   ]
  },
  {
   "cell_type": "code",
   "execution_count": 7,
   "metadata": {},
   "outputs": [],
   "source": [
    "df_base = pd.read_csv('wiki-movie.csv')\n",
    "# Make columns easier for data manipulation\n",
    "df_base.columns = [\n",
    "    col.lower().replace(\" \", \"_\").replace(\"/\", \"_\")\n",
    "    for col in df_base.columns]"
   ]
  },
  {
   "cell_type": "code",
   "execution_count": 8,
   "metadata": {},
   "outputs": [
    {
     "name": "stdout",
     "output_type": "stream",
     "text": [
      "<class 'pandas.core.frame.DataFrame'>\n",
      "RangeIndex: 34886 entries, 0 to 34885\n",
      "Data columns (total 8 columns):\n",
      " #   Column            Non-Null Count  Dtype \n",
      "---  ------            --------------  ----- \n",
      " 0   release_year      34886 non-null  int64 \n",
      " 1   title             34886 non-null  object\n",
      " 2   origin_ethnicity  34886 non-null  object\n",
      " 3   director          34886 non-null  object\n",
      " 4   cast              33464 non-null  object\n",
      " 5   genre             34886 non-null  object\n",
      " 6   wiki_page         34886 non-null  object\n",
      " 7   plot              34886 non-null  object\n",
      "dtypes: int64(1), object(7)\n",
      "memory usage: 2.1+ MB\n"
     ]
    }
   ],
   "source": [
    "df_base.info()"
   ]
  },
  {
   "cell_type": "code",
   "execution_count": 9,
   "metadata": {
    "scrolled": true
   },
   "outputs": [],
   "source": [
    "# Make a copy of the base table in case need to recover base state\n",
    "df = df_base.copy()"
   ]
  },
  {
   "cell_type": "markdown",
   "metadata": {},
   "source": [
    "Remove rows where genre was **unknown**"
   ]
  },
  {
   "cell_type": "code",
   "execution_count": 10,
   "metadata": {
    "scrolled": false
   },
   "outputs": [
    {
     "data": {
      "text/html": [
       "<div>\n",
       "<style scoped>\n",
       "    .dataframe tbody tr th:only-of-type {\n",
       "        vertical-align: middle;\n",
       "    }\n",
       "\n",
       "    .dataframe tbody tr th {\n",
       "        vertical-align: top;\n",
       "    }\n",
       "\n",
       "    .dataframe thead th {\n",
       "        text-align: right;\n",
       "    }\n",
       "</style>\n",
       "<table border=\"1\" class=\"dataframe\">\n",
       "  <thead>\n",
       "    <tr style=\"text-align: right;\">\n",
       "      <th></th>\n",
       "      <th>director</th>\n",
       "      <th>genre</th>\n",
       "      <th>plot</th>\n",
       "    </tr>\n",
       "  </thead>\n",
       "  <tbody>\n",
       "    <tr>\n",
       "      <th>6</th>\n",
       "      <td>Edwin S. Porter</td>\n",
       "      <td>western</td>\n",
       "      <td>The film opens with two bandits breaking into ...</td>\n",
       "    </tr>\n",
       "    <tr>\n",
       "      <th>7</th>\n",
       "      <td>Wallace McCutcheon</td>\n",
       "      <td>comedy</td>\n",
       "      <td>The film is about a family who move to the sub...</td>\n",
       "    </tr>\n",
       "    <tr>\n",
       "      <th>10</th>\n",
       "      <td>Wallace McCutcheon and Edwin S. Porter</td>\n",
       "      <td>short</td>\n",
       "      <td>The Rarebit Fiend gorges on Welsh rarebit at a...</td>\n",
       "    </tr>\n",
       "    <tr>\n",
       "      <th>11</th>\n",
       "      <td>Francis J. Marion and Wallace McCutcheon</td>\n",
       "      <td>short action/crime western</td>\n",
       "      <td>The film features a train traveling through th...</td>\n",
       "    </tr>\n",
       "    <tr>\n",
       "      <th>12</th>\n",
       "      <td>Edwin S. Porter</td>\n",
       "      <td>short film</td>\n",
       "      <td>Irish villager Kathleen is a tenant of Captain...</td>\n",
       "    </tr>\n",
       "  </tbody>\n",
       "</table>\n",
       "</div>"
      ],
      "text/plain": [
       "                                    director                       genre  \\\n",
       "6                            Edwin S. Porter                     western   \n",
       "7                         Wallace McCutcheon                      comedy   \n",
       "10    Wallace McCutcheon and Edwin S. Porter                       short   \n",
       "11  Francis J. Marion and Wallace McCutcheon  short action/crime western   \n",
       "12                           Edwin S. Porter                  short film   \n",
       "\n",
       "                                                 plot  \n",
       "6   The film opens with two bandits breaking into ...  \n",
       "7   The film is about a family who move to the sub...  \n",
       "10  The Rarebit Fiend gorges on Welsh rarebit at a...  \n",
       "11  The film features a train traveling through th...  \n",
       "12  Irish villager Kathleen is a tenant of Captain...  "
      ]
     },
     "execution_count": 10,
     "metadata": {},
     "output_type": "execute_result"
    }
   ],
   "source": [
    "df = (\n",
    "    df.query(\"genre != 'unknown'\")\n",
    "    .filter(['director', 'genre', 'plot'])\n",
    ")\n",
    "df.head(5)"
   ]
  },
  {
   "cell_type": "markdown",
   "metadata": {},
   "source": [
    "Making a list of genres to focus on, then encoding based on whether that text is found in the genre colum of the training dataset.  \n",
    "**NOTE** This is set up as a multilabel classification task since some genres are combination of multiple genres"
   ]
  },
  {
   "cell_type": "code",
   "execution_count": 11,
   "metadata": {},
   "outputs": [],
   "source": [
    "genre_list = ['comedy', 'western', 'drama', 'action', 'thriller', 'adventure', 'fantasy']\n",
    "assign_kwargs = {genre: np.nan for genre in genre_list}\n",
    "df = (\n",
    "    df\n",
    "    # Make empty columns with NaN\n",
    "    .assign(**assign_kwargs)\n",
    "    # Fill in columns with 1 if genre comes up or 0 if not in the genre column\n",
    "    .apply(onehot_genre, axis=1, args=(genre_list,))\n",
    ")"
   ]
  },
  {
   "cell_type": "code",
   "execution_count": 12,
   "metadata": {
    "scrolled": true
   },
   "outputs": [
    {
     "data": {
      "text/html": [
       "<div>\n",
       "<style scoped>\n",
       "    .dataframe tbody tr th:only-of-type {\n",
       "        vertical-align: middle;\n",
       "    }\n",
       "\n",
       "    .dataframe tbody tr th {\n",
       "        vertical-align: top;\n",
       "    }\n",
       "\n",
       "    .dataframe thead th {\n",
       "        text-align: right;\n",
       "    }\n",
       "</style>\n",
       "<table border=\"1\" class=\"dataframe\">\n",
       "  <thead>\n",
       "    <tr style=\"text-align: right;\">\n",
       "      <th></th>\n",
       "      <th>director</th>\n",
       "      <th>genre</th>\n",
       "      <th>plot</th>\n",
       "      <th>comedy</th>\n",
       "      <th>western</th>\n",
       "      <th>drama</th>\n",
       "      <th>action</th>\n",
       "      <th>thriller</th>\n",
       "      <th>adventure</th>\n",
       "      <th>fantasy</th>\n",
       "    </tr>\n",
       "  </thead>\n",
       "  <tbody>\n",
       "    <tr>\n",
       "      <th>6</th>\n",
       "      <td>Edwin S. Porter</td>\n",
       "      <td>western</td>\n",
       "      <td>The film opens with two bandits breaking into ...</td>\n",
       "      <td>0</td>\n",
       "      <td>1</td>\n",
       "      <td>0</td>\n",
       "      <td>0</td>\n",
       "      <td>0</td>\n",
       "      <td>0</td>\n",
       "      <td>0</td>\n",
       "    </tr>\n",
       "    <tr>\n",
       "      <th>7</th>\n",
       "      <td>Wallace McCutcheon</td>\n",
       "      <td>comedy</td>\n",
       "      <td>The film is about a family who move to the sub...</td>\n",
       "      <td>1</td>\n",
       "      <td>0</td>\n",
       "      <td>0</td>\n",
       "      <td>0</td>\n",
       "      <td>0</td>\n",
       "      <td>0</td>\n",
       "      <td>0</td>\n",
       "    </tr>\n",
       "  </tbody>\n",
       "</table>\n",
       "</div>"
      ],
      "text/plain": [
       "             director    genre  \\\n",
       "6     Edwin S. Porter  western   \n",
       "7  Wallace McCutcheon   comedy   \n",
       "\n",
       "                                                plot  comedy  western  drama  \\\n",
       "6  The film opens with two bandits breaking into ...       0        1      0   \n",
       "7  The film is about a family who move to the sub...       1        0      0   \n",
       "\n",
       "   action  thriller  adventure  fantasy  \n",
       "6       0         0          0        0  \n",
       "7       0         0          0        0  "
      ]
     },
     "execution_count": 12,
     "metadata": {},
     "output_type": "execute_result"
    }
   ],
   "source": [
    "df.head(2)"
   ]
  },
  {
   "cell_type": "markdown",
   "metadata": {},
   "source": [
    "Just looking at counts of each genre in the dataset. Mind that since these are not mutually exclusive genres, some combinations may be more imbalanced by nature"
   ]
  },
  {
   "cell_type": "code",
   "execution_count": 33,
   "metadata": {
    "scrolled": true
   },
   "outputs": [
    {
     "data": {
      "text/plain": [
       "fantasy       547\n",
       "adventure     867\n",
       "western       974\n",
       "thriller     1780\n",
       "action       2450\n",
       "comedy       7266\n",
       "drama        9475\n",
       "dtype: int64"
      ]
     },
     "execution_count": 33,
     "metadata": {},
     "output_type": "execute_result"
    }
   ],
   "source": [
    "df[genre_list].sum()"
   ]
  },
  {
   "cell_type": "code",
   "execution_count": 39,
   "metadata": {
    "scrolled": false
   },
   "outputs": [
    {
     "data": {
      "text/plain": [
       "<AxesSubplot:>"
      ]
     },
     "execution_count": 39,
     "metadata": {},
     "output_type": "execute_result"
    },
    {
     "data": {
      "image/png": "[encoded data removed]",
      "text/plain": [
       "<Figure size 1200x800 with 1 Axes>"
      ]
     },
     "metadata": {
      "needs_background": "light"
     },
     "output_type": "display_data"
    }
   ],
   "source": [
    "df[genre_list].sum().sort_values(ascending=False).plot.bar()"
   ]
  },
  {
   "cell_type": "code",
   "execution_count": 40,
   "metadata": {
    "scrolled": false
   },
   "outputs": [
    {
     "data": {
      "text/plain": [
       "<AxesSubplot:xlabel='0'>"
      ]
     },
     "execution_count": 40,
     "metadata": {},
     "output_type": "execute_result"
    },
    {
     "data": {
      "image/png": "[encoded data removed]",
      "text/plain": [
       "<Figure size 1200x800 with 1 Axes>"
      ]
     },
     "metadata": {
      "needs_background": "light"
     },
     "output_type": "display_data"
    }
   ],
   "source": [
    "(\n",
    "    pd.DataFrame(\n",
    "        decode_genres(df[genre_list].values, genre_list))\n",
    "    .value_counts()\n",
    "    \n",
    ").plot.bar()"
   ]
  },
  {
   "cell_type": "markdown",
   "metadata": {},
   "source": [
    "# Clean Data"
   ]
  },
  {
   "cell_type": "code",
   "execution_count": 55,
   "metadata": {},
   "outputs": [
    {
     "data": {
      "application/vnd.jupyter.widget-view+json": {
       "model_id": "0407ed54ecd244b38c9d623efaaf5a8e",
       "version_major": 2,
       "version_minor": 0
      },
      "text/plain": [
       "HBox(children=(HTML(value=''), FloatProgress(value=0.0, max=28803.0), HTML(value='')))"
      ]
     },
     "metadata": {},
     "output_type": "display_data"
    },
    {
     "name": "stdout",
     "output_type": "stream",
     "text": [
      "\n"
     ]
    }
   ],
   "source": [
    "df['plot_clean'] = df['plot'].progress_apply(preprocess_text)"
   ]
  },
  {
   "cell_type": "markdown",
   "metadata": {},
   "source": [
    "# Split Training Test"
   ]
  },
  {
   "cell_type": "code",
   "execution_count": 56,
   "metadata": {},
   "outputs": [],
   "source": [
    "df_train, df_test = train_test_split(df, random_state=42, test_size=0.25)\n",
    "X_train_raw, X_test_raw = df_train['plot'].values, df_test['plot'].values\n",
    "X_train_clean, X_test_clean = df_train['plot_clean'].values, df_test['plot_clean'].values\n",
    "y_train, y_test = df_train[genre_list].values, df_train[genre_list].values"
   ]
  },
  {
   "cell_type": "markdown",
   "metadata": {},
   "source": [
    "# Vectorize Documents"
   ]
  },
  {
   "cell_type": "markdown",
   "metadata": {},
   "source": [
    "## Count Vectorizer\n",
    "Used as a raw baseline for Bag Of Words approach"
   ]
  },
  {
   "cell_type": "markdown",
   "metadata": {},
   "source": [
    "### Raw"
   ]
  },
  {
   "cell_type": "code",
   "execution_count": 79,
   "metadata": {},
   "outputs": [],
   "source": [
    "count_vectorizer_raw = CountVectorizer(stop_words='english')\n",
    "count_train_raw = count_vectorizer_raw.fit_transform(X_train_raw)\n",
    "count_test_raw = count_vectorizer_raw.transform(X_test_raw)"
   ]
  },
  {
   "cell_type": "code",
   "execution_count": 91,
   "metadata": {},
   "outputs": [
    {
     "data": {
      "text/plain": [
       "(21602, 106476)"
      ]
     },
     "execution_count": 91,
     "metadata": {},
     "output_type": "execute_result"
    }
   ],
   "source": [
    "dictionary_count_raw = count_vectorizer_raw.vocabulary_\n",
    "count_train_raw.A.shape"
   ]
  },
  {
   "cell_type": "markdown",
   "metadata": {},
   "source": [
    "### Clean, limit, ngram"
   ]
  },
  {
   "cell_type": "code",
   "execution_count": 63,
   "metadata": {},
   "outputs": [],
   "source": [
    "count_vectorizer_clean = CountVectorizer(stop_words='english',\n",
    "                                         max_features=10000, \n",
    "                                         ngram_range=(1, 3))\n",
    "count_train_clean = count_vectorizer_clean.fit_transform(X_train_clean)\n",
    "count_test_clean = count_vectorizer_clean.transform(X_test_clean)"
   ]
  },
  {
   "cell_type": "code",
   "execution_count": 90,
   "metadata": {},
   "outputs": [
    {
     "data": {
      "text/plain": [
       "(21602, 10000)"
      ]
     },
     "execution_count": 90,
     "metadata": {},
     "output_type": "execute_result"
    }
   ],
   "source": [
    "dictionary_count_clean = count_vectorizer_clean.vocabulary_\n",
    "count_train_clean.A.shape"
   ]
  },
  {
   "cell_type": "markdown",
   "metadata": {},
   "source": [
    "## TF-IDF Vectorizer\n",
    "Used as a more robust approach at identifying imporant words."
   ]
  },
  {
   "cell_type": "markdown",
   "metadata": {},
   "source": [
    "### Raw"
   ]
  },
  {
   "cell_type": "code",
   "execution_count": 82,
   "metadata": {},
   "outputs": [],
   "source": [
    "# Max df trims out words more common than ...\n",
    "# Min df trims words that occur lass then min_df times\n",
    "tfidf_vectorizer_raw = TfidfVectorizer(stop_words='english', \n",
    "                                   max_df=0.7, min_df=5)\n",
    "tfidf_train_raw = tfidf_vectorizer_raw.fit_transform(X_train_raw)\n",
    "tfidf_test_raw = tfidf_vectorizer_raw.transform(X_test_raw)"
   ]
  },
  {
   "cell_type": "code",
   "execution_count": 83,
   "metadata": {},
   "outputs": [
    {
     "data": {
      "text/plain": [
       "(21602, 32869)"
      ]
     },
     "execution_count": 83,
     "metadata": {},
     "output_type": "execute_result"
    }
   ],
   "source": [
    "dictionary_tfidf_raw = tfidf_vectorizer_raw.vocabulary_\n",
    "tfidf_train_raw.A.shape"
   ]
  },
  {
   "cell_type": "markdown",
   "metadata": {},
   "source": [
    "### Clean, Limit, Ngram"
   ]
  },
  {
   "cell_type": "code",
   "execution_count": 73,
   "metadata": {},
   "outputs": [],
   "source": [
    "# Max df trims out words more common than ...\n",
    "# Min df trims words that occur lass then min_df times\n",
    "tfidf_vectorizer_clean = TfidfVectorizer(stop_words='english', \n",
    "                                         max_df=0.7, \n",
    "                                         min_df=5,\n",
    "                                         max_features=10000, \n",
    "                                         ngram_range=(1, 3))\n",
    "tfidf_train_clean = tfidf_vectorizer_clean.fit_transform(X_train_clean)\n",
    "tfidf_test_clean = tfidf_vectorizer_clean.transform(X_test_clean)"
   ]
  },
  {
   "cell_type": "code",
   "execution_count": 74,
   "metadata": {},
   "outputs": [
    {
     "data": {
      "text/plain": [
       "(21602, 10000)"
      ]
     },
     "execution_count": 74,
     "metadata": {},
     "output_type": "execute_result"
    }
   ],
   "source": [
    "dictionary_tfidf_clean = tfidf_vectorizer_clean.vocabulary_\n",
    "tfidf_train_clean.A.shape"
   ]
  },
  {
   "cell_type": "markdown",
   "metadata": {},
   "source": [
    "## Show transformed data"
   ]
  },
  {
   "cell_type": "code",
   "execution_count": 84,
   "metadata": {},
   "outputs": [],
   "source": [
    "df_count_raw = pd.DataFrame(count_train_raw.A, \n",
    "                            columns=count_vectorizer_raw.get_feature_names())\n",
    "df_count_clean = pd.DataFrame(count_train_clean.A,\n",
    "                              columns=count_vectorizer_clean.get_feature_names())\n",
    "\n",
    "df_tfidf_raw = pd.DataFrame(tfidf_train_raw.A, \n",
    "                            columns=tfidf_vectorizer_raw.get_feature_names())\n",
    "df_tfidf_clean = pd.DataFrame(tfidf_train_clean.A, \n",
    "                              columns=tfidf_vectorizer_clean.get_feature_names())"
   ]
  },
  {
   "cell_type": "code",
   "execution_count": 85,
   "metadata": {
    "scrolled": false
   },
   "outputs": [
    {
     "data": {
      "text/html": [
       "<div>\n",
       "<style scoped>\n",
       "    .dataframe tbody tr th:only-of-type {\n",
       "        vertical-align: middle;\n",
       "    }\n",
       "\n",
       "    .dataframe tbody tr th {\n",
       "        vertical-align: top;\n",
       "    }\n",
       "\n",
       "    .dataframe thead th {\n",
       "        text-align: right;\n",
       "    }\n",
       "</style>\n",
       "<table border=\"1\" class=\"dataframe\">\n",
       "  <thead>\n",
       "    <tr style=\"text-align: right;\">\n",
       "      <th></th>\n",
       "      <th>00</th>\n",
       "      <th>000</th>\n",
       "      <th>0000</th>\n",
       "      <th>00006cbd68f</th>\n",
       "      <th>0008</th>\n",
       "      <th>000dm</th>\n",
       "      <th>000th</th>\n",
       "      <th>001</th>\n",
       "      <th>002</th>\n",
       "      <th>002re</th>\n",
       "      <th>...</th>\n",
       "      <th>黄老爷</th>\n",
       "      <th>黒腕のゼファー</th>\n",
       "      <th>나그네</th>\n",
       "      <th>달수</th>\n",
       "      <th>북촌</th>\n",
       "      <th>애꾸눈</th>\n",
       "      <th>잎싹</th>\n",
       "      <th>초록</th>\n",
       "      <th>초록머리</th>\n",
       "      <th>ﬂight</th>\n",
       "    </tr>\n",
       "  </thead>\n",
       "  <tbody>\n",
       "    <tr>\n",
       "      <th>0</th>\n",
       "      <td>0</td>\n",
       "      <td>0</td>\n",
       "      <td>0</td>\n",
       "      <td>0</td>\n",
       "      <td>0</td>\n",
       "      <td>0</td>\n",
       "      <td>0</td>\n",
       "      <td>0</td>\n",
       "      <td>0</td>\n",
       "      <td>0</td>\n",
       "      <td>...</td>\n",
       "      <td>0</td>\n",
       "      <td>0</td>\n",
       "      <td>0</td>\n",
       "      <td>0</td>\n",
       "      <td>0</td>\n",
       "      <td>0</td>\n",
       "      <td>0</td>\n",
       "      <td>0</td>\n",
       "      <td>0</td>\n",
       "      <td>0</td>\n",
       "    </tr>\n",
       "    <tr>\n",
       "      <th>1</th>\n",
       "      <td>0</td>\n",
       "      <td>0</td>\n",
       "      <td>0</td>\n",
       "      <td>0</td>\n",
       "      <td>0</td>\n",
       "      <td>0</td>\n",
       "      <td>0</td>\n",
       "      <td>0</td>\n",
       "      <td>0</td>\n",
       "      <td>0</td>\n",
       "      <td>...</td>\n",
       "      <td>0</td>\n",
       "      <td>0</td>\n",
       "      <td>0</td>\n",
       "      <td>0</td>\n",
       "      <td>0</td>\n",
       "      <td>0</td>\n",
       "      <td>0</td>\n",
       "      <td>0</td>\n",
       "      <td>0</td>\n",
       "      <td>0</td>\n",
       "    </tr>\n",
       "    <tr>\n",
       "      <th>2</th>\n",
       "      <td>0</td>\n",
       "      <td>0</td>\n",
       "      <td>0</td>\n",
       "      <td>0</td>\n",
       "      <td>0</td>\n",
       "      <td>0</td>\n",
       "      <td>0</td>\n",
       "      <td>0</td>\n",
       "      <td>0</td>\n",
       "      <td>0</td>\n",
       "      <td>...</td>\n",
       "      <td>0</td>\n",
       "      <td>0</td>\n",
       "      <td>0</td>\n",
       "      <td>0</td>\n",
       "      <td>0</td>\n",
       "      <td>0</td>\n",
       "      <td>0</td>\n",
       "      <td>0</td>\n",
       "      <td>0</td>\n",
       "      <td>0</td>\n",
       "    </tr>\n",
       "  </tbody>\n",
       "</table>\n",
       "<p>3 rows × 106476 columns</p>\n",
       "</div>"
      ],
      "text/plain": [
       "   00  000  0000  00006cbd68f  0008  000dm  000th  001  002  002re  ...  黄老爷  \\\n",
       "0   0    0     0            0     0      0      0    0    0      0  ...    0   \n",
       "1   0    0     0            0     0      0      0    0    0      0  ...    0   \n",
       "2   0    0     0            0     0      0      0    0    0      0  ...    0   \n",
       "\n",
       "   黒腕のゼファー  나그네  달수  북촌  애꾸눈  잎싹  초록  초록머리  ﬂight  \n",
       "0        0    0   0   0    0   0   0     0      0  \n",
       "1        0    0   0   0    0   0   0     0      0  \n",
       "2        0    0   0   0    0   0   0     0      0  \n",
       "\n",
       "[3 rows x 106476 columns]"
      ]
     },
     "execution_count": 85,
     "metadata": {},
     "output_type": "execute_result"
    }
   ],
   "source": [
    "df_count_raw.head(3)"
   ]
  },
  {
   "cell_type": "code",
   "execution_count": 86,
   "metadata": {},
   "outputs": [
    {
     "data": {
      "text/html": [
       "<div>\n",
       "<style scoped>\n",
       "    .dataframe tbody tr th:only-of-type {\n",
       "        vertical-align: middle;\n",
       "    }\n",
       "\n",
       "    .dataframe tbody tr th {\n",
       "        vertical-align: top;\n",
       "    }\n",
       "\n",
       "    .dataframe thead th {\n",
       "        text-align: right;\n",
       "    }\n",
       "</style>\n",
       "<table border=\"1\" class=\"dataframe\">\n",
       "  <thead>\n",
       "    <tr style=\"text-align: right;\">\n",
       "      <th></th>\n",
       "      <th>10</th>\n",
       "      <th>10 year</th>\n",
       "      <th>100</th>\n",
       "      <th>1000</th>\n",
       "      <th>10000</th>\n",
       "      <th>100000</th>\n",
       "      <th>10yearold</th>\n",
       "      <th>11</th>\n",
       "      <th>12</th>\n",
       "      <th>12yearold</th>\n",
       "      <th>...</th>\n",
       "      <th>zhao</th>\n",
       "      <th>zheng</th>\n",
       "      <th>zhong</th>\n",
       "      <th>zhou</th>\n",
       "      <th>zodiac</th>\n",
       "      <th>zoe</th>\n",
       "      <th>zombi</th>\n",
       "      <th>zone</th>\n",
       "      <th>zoo</th>\n",
       "      <th>zoya</th>\n",
       "    </tr>\n",
       "  </thead>\n",
       "  <tbody>\n",
       "    <tr>\n",
       "      <th>0</th>\n",
       "      <td>0</td>\n",
       "      <td>0</td>\n",
       "      <td>0</td>\n",
       "      <td>0</td>\n",
       "      <td>0</td>\n",
       "      <td>0</td>\n",
       "      <td>0</td>\n",
       "      <td>0</td>\n",
       "      <td>0</td>\n",
       "      <td>0</td>\n",
       "      <td>...</td>\n",
       "      <td>0</td>\n",
       "      <td>0</td>\n",
       "      <td>0</td>\n",
       "      <td>0</td>\n",
       "      <td>0</td>\n",
       "      <td>0</td>\n",
       "      <td>0</td>\n",
       "      <td>0</td>\n",
       "      <td>0</td>\n",
       "      <td>0</td>\n",
       "    </tr>\n",
       "    <tr>\n",
       "      <th>1</th>\n",
       "      <td>0</td>\n",
       "      <td>0</td>\n",
       "      <td>0</td>\n",
       "      <td>0</td>\n",
       "      <td>0</td>\n",
       "      <td>0</td>\n",
       "      <td>0</td>\n",
       "      <td>0</td>\n",
       "      <td>0</td>\n",
       "      <td>0</td>\n",
       "      <td>...</td>\n",
       "      <td>0</td>\n",
       "      <td>0</td>\n",
       "      <td>0</td>\n",
       "      <td>0</td>\n",
       "      <td>0</td>\n",
       "      <td>0</td>\n",
       "      <td>0</td>\n",
       "      <td>0</td>\n",
       "      <td>0</td>\n",
       "      <td>0</td>\n",
       "    </tr>\n",
       "    <tr>\n",
       "      <th>2</th>\n",
       "      <td>0</td>\n",
       "      <td>0</td>\n",
       "      <td>0</td>\n",
       "      <td>0</td>\n",
       "      <td>0</td>\n",
       "      <td>0</td>\n",
       "      <td>0</td>\n",
       "      <td>0</td>\n",
       "      <td>0</td>\n",
       "      <td>0</td>\n",
       "      <td>...</td>\n",
       "      <td>0</td>\n",
       "      <td>0</td>\n",
       "      <td>0</td>\n",
       "      <td>0</td>\n",
       "      <td>0</td>\n",
       "      <td>0</td>\n",
       "      <td>0</td>\n",
       "      <td>0</td>\n",
       "      <td>0</td>\n",
       "      <td>0</td>\n",
       "    </tr>\n",
       "  </tbody>\n",
       "</table>\n",
       "<p>3 rows × 10000 columns</p>\n",
       "</div>"
      ],
      "text/plain": [
       "   10  10 year  100  1000  10000  100000  10yearold  11  12  12yearold  ...  \\\n",
       "0   0        0    0     0      0       0          0   0   0          0  ...   \n",
       "1   0        0    0     0      0       0          0   0   0          0  ...   \n",
       "2   0        0    0     0      0       0          0   0   0          0  ...   \n",
       "\n",
       "   zhao  zheng  zhong  zhou  zodiac  zoe  zombi  zone  zoo  zoya  \n",
       "0     0      0      0     0       0    0      0     0    0     0  \n",
       "1     0      0      0     0       0    0      0     0    0     0  \n",
       "2     0      0      0     0       0    0      0     0    0     0  \n",
       "\n",
       "[3 rows x 10000 columns]"
      ]
     },
     "execution_count": 86,
     "metadata": {},
     "output_type": "execute_result"
    }
   ],
   "source": [
    "df_count_clean.head(3)"
   ]
  },
  {
   "cell_type": "code",
   "execution_count": 87,
   "metadata": {},
   "outputs": [
    {
     "data": {
      "text/html": [
       "<div>\n",
       "<style scoped>\n",
       "    .dataframe tbody tr th:only-of-type {\n",
       "        vertical-align: middle;\n",
       "    }\n",
       "\n",
       "    .dataframe tbody tr th {\n",
       "        vertical-align: top;\n",
       "    }\n",
       "\n",
       "    .dataframe thead th {\n",
       "        text-align: right;\n",
       "    }\n",
       "</style>\n",
       "<table border=\"1\" class=\"dataframe\">\n",
       "  <thead>\n",
       "    <tr style=\"text-align: right;\">\n",
       "      <th></th>\n",
       "      <th>00</th>\n",
       "      <th>000</th>\n",
       "      <th>000th</th>\n",
       "      <th>007</th>\n",
       "      <th>00pm</th>\n",
       "      <th>02</th>\n",
       "      <th>03</th>\n",
       "      <th>05</th>\n",
       "      <th>06</th>\n",
       "      <th>08</th>\n",
       "      <th>...</th>\n",
       "      <th>zou</th>\n",
       "      <th>zoya</th>\n",
       "      <th>zoë</th>\n",
       "      <th>zsa</th>\n",
       "      <th>zucco</th>\n",
       "      <th>zuckerman</th>\n",
       "      <th>zulu</th>\n",
       "      <th>zurich</th>\n",
       "      <th>åkerman</th>\n",
       "      <th>état</th>\n",
       "    </tr>\n",
       "  </thead>\n",
       "  <tbody>\n",
       "    <tr>\n",
       "      <th>0</th>\n",
       "      <td>0.0</td>\n",
       "      <td>0.0</td>\n",
       "      <td>0.0</td>\n",
       "      <td>0.0</td>\n",
       "      <td>0.0</td>\n",
       "      <td>0.0</td>\n",
       "      <td>0.0</td>\n",
       "      <td>0.0</td>\n",
       "      <td>0.0</td>\n",
       "      <td>0.0</td>\n",
       "      <td>...</td>\n",
       "      <td>0.0</td>\n",
       "      <td>0.0</td>\n",
       "      <td>0.0</td>\n",
       "      <td>0.0</td>\n",
       "      <td>0.0</td>\n",
       "      <td>0.0</td>\n",
       "      <td>0.0</td>\n",
       "      <td>0.0</td>\n",
       "      <td>0.0</td>\n",
       "      <td>0.0</td>\n",
       "    </tr>\n",
       "    <tr>\n",
       "      <th>1</th>\n",
       "      <td>0.0</td>\n",
       "      <td>0.0</td>\n",
       "      <td>0.0</td>\n",
       "      <td>0.0</td>\n",
       "      <td>0.0</td>\n",
       "      <td>0.0</td>\n",
       "      <td>0.0</td>\n",
       "      <td>0.0</td>\n",
       "      <td>0.0</td>\n",
       "      <td>0.0</td>\n",
       "      <td>...</td>\n",
       "      <td>0.0</td>\n",
       "      <td>0.0</td>\n",
       "      <td>0.0</td>\n",
       "      <td>0.0</td>\n",
       "      <td>0.0</td>\n",
       "      <td>0.0</td>\n",
       "      <td>0.0</td>\n",
       "      <td>0.0</td>\n",
       "      <td>0.0</td>\n",
       "      <td>0.0</td>\n",
       "    </tr>\n",
       "    <tr>\n",
       "      <th>2</th>\n",
       "      <td>0.0</td>\n",
       "      <td>0.0</td>\n",
       "      <td>0.0</td>\n",
       "      <td>0.0</td>\n",
       "      <td>0.0</td>\n",
       "      <td>0.0</td>\n",
       "      <td>0.0</td>\n",
       "      <td>0.0</td>\n",
       "      <td>0.0</td>\n",
       "      <td>0.0</td>\n",
       "      <td>...</td>\n",
       "      <td>0.0</td>\n",
       "      <td>0.0</td>\n",
       "      <td>0.0</td>\n",
       "      <td>0.0</td>\n",
       "      <td>0.0</td>\n",
       "      <td>0.0</td>\n",
       "      <td>0.0</td>\n",
       "      <td>0.0</td>\n",
       "      <td>0.0</td>\n",
       "      <td>0.0</td>\n",
       "    </tr>\n",
       "  </tbody>\n",
       "</table>\n",
       "<p>3 rows × 32869 columns</p>\n",
       "</div>"
      ],
      "text/plain": [
       "    00  000  000th  007  00pm   02   03   05   06   08  ...  zou  zoya  zoë  \\\n",
       "0  0.0  0.0    0.0  0.0   0.0  0.0  0.0  0.0  0.0  0.0  ...  0.0   0.0  0.0   \n",
       "1  0.0  0.0    0.0  0.0   0.0  0.0  0.0  0.0  0.0  0.0  ...  0.0   0.0  0.0   \n",
       "2  0.0  0.0    0.0  0.0   0.0  0.0  0.0  0.0  0.0  0.0  ...  0.0   0.0  0.0   \n",
       "\n",
       "   zsa  zucco  zuckerman  zulu  zurich  åkerman  état  \n",
       "0  0.0    0.0        0.0   0.0     0.0      0.0   0.0  \n",
       "1  0.0    0.0        0.0   0.0     0.0      0.0   0.0  \n",
       "2  0.0    0.0        0.0   0.0     0.0      0.0   0.0  \n",
       "\n",
       "[3 rows x 32869 columns]"
      ]
     },
     "execution_count": 87,
     "metadata": {},
     "output_type": "execute_result"
    }
   ],
   "source": [
    "df_tfidf_raw.head(3)"
   ]
  },
  {
   "cell_type": "code",
   "execution_count": 88,
   "metadata": {
    "scrolled": true
   },
   "outputs": [
    {
     "data": {
      "text/html": [
       "<div>\n",
       "<style scoped>\n",
       "    .dataframe tbody tr th:only-of-type {\n",
       "        vertical-align: middle;\n",
       "    }\n",
       "\n",
       "    .dataframe tbody tr th {\n",
       "        vertical-align: top;\n",
       "    }\n",
       "\n",
       "    .dataframe thead th {\n",
       "        text-align: right;\n",
       "    }\n",
       "</style>\n",
       "<table border=\"1\" class=\"dataframe\">\n",
       "  <thead>\n",
       "    <tr style=\"text-align: right;\">\n",
       "      <th></th>\n",
       "      <th>10</th>\n",
       "      <th>10 year</th>\n",
       "      <th>100</th>\n",
       "      <th>1000</th>\n",
       "      <th>10000</th>\n",
       "      <th>100000</th>\n",
       "      <th>10yearold</th>\n",
       "      <th>11</th>\n",
       "      <th>12</th>\n",
       "      <th>12yearold</th>\n",
       "      <th>...</th>\n",
       "      <th>zhao</th>\n",
       "      <th>zheng</th>\n",
       "      <th>zhong</th>\n",
       "      <th>zhou</th>\n",
       "      <th>zodiac</th>\n",
       "      <th>zoe</th>\n",
       "      <th>zombi</th>\n",
       "      <th>zone</th>\n",
       "      <th>zoo</th>\n",
       "      <th>zoya</th>\n",
       "    </tr>\n",
       "  </thead>\n",
       "  <tbody>\n",
       "    <tr>\n",
       "      <th>0</th>\n",
       "      <td>0.0</td>\n",
       "      <td>0.0</td>\n",
       "      <td>0.0</td>\n",
       "      <td>0.0</td>\n",
       "      <td>0.0</td>\n",
       "      <td>0.0</td>\n",
       "      <td>0.0</td>\n",
       "      <td>0.0</td>\n",
       "      <td>0.0</td>\n",
       "      <td>0.0</td>\n",
       "      <td>...</td>\n",
       "      <td>0.0</td>\n",
       "      <td>0.0</td>\n",
       "      <td>0.0</td>\n",
       "      <td>0.0</td>\n",
       "      <td>0.0</td>\n",
       "      <td>0.0</td>\n",
       "      <td>0.0</td>\n",
       "      <td>0.0</td>\n",
       "      <td>0.0</td>\n",
       "      <td>0.0</td>\n",
       "    </tr>\n",
       "    <tr>\n",
       "      <th>1</th>\n",
       "      <td>0.0</td>\n",
       "      <td>0.0</td>\n",
       "      <td>0.0</td>\n",
       "      <td>0.0</td>\n",
       "      <td>0.0</td>\n",
       "      <td>0.0</td>\n",
       "      <td>0.0</td>\n",
       "      <td>0.0</td>\n",
       "      <td>0.0</td>\n",
       "      <td>0.0</td>\n",
       "      <td>...</td>\n",
       "      <td>0.0</td>\n",
       "      <td>0.0</td>\n",
       "      <td>0.0</td>\n",
       "      <td>0.0</td>\n",
       "      <td>0.0</td>\n",
       "      <td>0.0</td>\n",
       "      <td>0.0</td>\n",
       "      <td>0.0</td>\n",
       "      <td>0.0</td>\n",
       "      <td>0.0</td>\n",
       "    </tr>\n",
       "    <tr>\n",
       "      <th>2</th>\n",
       "      <td>0.0</td>\n",
       "      <td>0.0</td>\n",
       "      <td>0.0</td>\n",
       "      <td>0.0</td>\n",
       "      <td>0.0</td>\n",
       "      <td>0.0</td>\n",
       "      <td>0.0</td>\n",
       "      <td>0.0</td>\n",
       "      <td>0.0</td>\n",
       "      <td>0.0</td>\n",
       "      <td>...</td>\n",
       "      <td>0.0</td>\n",
       "      <td>0.0</td>\n",
       "      <td>0.0</td>\n",
       "      <td>0.0</td>\n",
       "      <td>0.0</td>\n",
       "      <td>0.0</td>\n",
       "      <td>0.0</td>\n",
       "      <td>0.0</td>\n",
       "      <td>0.0</td>\n",
       "      <td>0.0</td>\n",
       "    </tr>\n",
       "  </tbody>\n",
       "</table>\n",
       "<p>3 rows × 10000 columns</p>\n",
       "</div>"
      ],
      "text/plain": [
       "    10  10 year  100  1000  10000  100000  10yearold   11   12  12yearold  \\\n",
       "0  0.0      0.0  0.0   0.0    0.0     0.0        0.0  0.0  0.0        0.0   \n",
       "1  0.0      0.0  0.0   0.0    0.0     0.0        0.0  0.0  0.0        0.0   \n",
       "2  0.0      0.0  0.0   0.0    0.0     0.0        0.0  0.0  0.0        0.0   \n",
       "\n",
       "   ...  zhao  zheng  zhong  zhou  zodiac  zoe  zombi  zone  zoo  zoya  \n",
       "0  ...   0.0    0.0    0.0   0.0     0.0  0.0    0.0   0.0  0.0   0.0  \n",
       "1  ...   0.0    0.0    0.0   0.0     0.0  0.0    0.0   0.0  0.0   0.0  \n",
       "2  ...   0.0    0.0    0.0   0.0     0.0  0.0    0.0   0.0  0.0   0.0  \n",
       "\n",
       "[3 rows x 10000 columns]"
      ]
     },
     "execution_count": 88,
     "metadata": {},
     "output_type": "execute_result"
    }
   ],
   "source": [
    "df_tfidf_clean.head(3)"
   ]
  },
  {
   "cell_type": "markdown",
   "metadata": {},
   "source": [
    "# Feature Selection\n",
    "\n",
    "Using Chi-square\n",
    "# IAMHERE\n",
    "https://towardsdatascience.com/text-classification-with-nlp-tf-idf-vs-word2vec-vs-bert-41ff868d1794"
   ]
  },
  {
   "cell_type": "code",
   "execution_count": 192,
   "metadata": {},
   "outputs": [
    {
     "name": "stdout",
     "output_type": "stream",
     "text": [
      "\n",
      "Top imporant words in comedy plots:\n",
      "[['kill' 1.3433539309140973e-09 0]\n",
      " ['stoog' 2.3299722619297473e-08 0]\n",
      " ['comedi' 6.401209828436265e-07 0]\n",
      " ['sach' 1.2162444639301198e-06 0]\n",
      " ['clouseau' 3.077718347074813e-06 0]]\n",
      "\n",
      "Top imporant words in western plots:\n",
      "[['ranch' 4.5926080669863186e-83 0]\n",
      " ['outlaw' 4.950343620314612e-74 0]\n",
      " ['cattl' 7.587231445136287e-65 0]\n",
      " ['rancher' 7.42876016161712e-58 0]\n",
      " ['apach' 8.332329070696478e-58 0]]\n",
      "\n",
      "Top imporant words in drama plots:\n",
      "[['son' 4.437905410166325e-06 0]\n",
      " ['relationship' 1.7151830427838154e-05 0]\n",
      " ['bug' 3.2530460799562416e-05 0]\n",
      " ['famili' 7.195775568577428e-05 0]\n",
      " ['creatur' 8.191745435871277e-05 0]]\n",
      "\n",
      "Top imporant words in action plots:\n",
      "[['vijay' 2.1158412853937544e-16 0]\n",
      " ['terrorist' 4.481295462907121e-13 0]\n",
      " ['singh' 4.935787244232286e-13 0]\n",
      " ['mithun' 7.568565336067456e-12 0]\n",
      " ['kill' 8.314709292838662e-12 0]]\n",
      "\n",
      "Top imporant words in thriller plots:\n",
      "[['killer' 4.975359459707027e-08 0]\n",
      " ['murder' 8.270125029301256e-07 0]\n",
      " ['vetri' 3.943186104987606e-06 0]\n",
      " ['polic' 4.524176808672975e-06 0]\n",
      " ['serial killer' 7.532068580506614e-06 0]]\n",
      "\n",
      "Top imporant words in adventure plots:\n",
      "[['tarzan' 4.9634808891924035e-56 0]\n",
      " ['pirat' 3.4526254531405775e-25 0]\n",
      " ['jungl' 1.382711683949263e-18 0]\n",
      " ['treasur' 4.827099074656833e-18 0]\n",
      " ['cruso' 3.3931597093966557e-15 0]]\n",
      "\n",
      "Top imporant words in fantasy plots:\n",
      "[['magic' 1.0707477481830278e-32 0]\n",
      " ['voldemort' 5.0178517671375317e-29 0]\n",
      " ['dumbledor' 5.933075069282947e-26 0]\n",
      " ['dragon' 1.7345241269377875e-22 0]\n",
      " ['hermion' 3.5308142196988575e-21 0]]\n"
     ]
    }
   ],
   "source": [
    "top_features_by_genre = get_top_features_by_genre(genre_list, tfidf_vectorizer_clean)\n",
    "feature_set = get_feature_set(top_features_by_genre)"
   ]
  },
  {
   "cell_type": "code",
   "execution_count": 125,
   "metadata": {},
   "outputs": [],
   "source": [
    "# using chi2 \n",
    "def get_significant_features(y_, word_vector_names, alpha=0.05):\n",
    "\n",
    "    df_features = pd.DataFrame()\n",
    "    for cat in np.unique(y_):\n",
    "        chi_sq, p = chi2(tfidf_train_clean, y==cat)\n",
    "        df_features = (\n",
    "            df_features\n",
    "            .append(\n",
    "                pd.DataFrame({'feature': words, 'score': p, 'y': cat}))\n",
    "            .sort_values(['y', 'score'])\n",
    "            .query(f'score < {alpha}'))\n",
    "    return df_features"
   ]
  },
  {
   "cell_type": "code",
   "execution_count": 183,
   "metadata": {},
   "outputs": [],
   "source": [
    "def get_top_features_by_genre(genre_list_, vectorizer_):\n",
    "    important_features_by_genre = {}\n",
    "    words = vectorizer_.get_feature_names()\n",
    "    for genre in genre_list_:\n",
    "        y = y_train.T[genre_list_.index(genre)]\n",
    "        important_features_by_genre[genre] = get_significant_features(y, words)\n",
    "        \n",
    "    return important_features_by_genre"
   ]
  },
  {
   "cell_type": "code",
   "execution_count": 191,
   "metadata": {},
   "outputs": [],
   "source": [
    "def get_feature_set(top_features_by_genre, set_type='union', print_summary=True):\n",
    "    \n",
    "    if set_type == 'union':\n",
    "        feature_set = set()\n",
    "        for key in top_features_by_genre:\n",
    "            [feature_set.add(feature) for feature in \n",
    "             important_features_by_genre[key]['feature']]\n",
    "            if print_summary:\n",
    "                print(f\"\\nTop imporant words in {key} plots:\")\n",
    "                print(important_features_by_genre[key]\n",
    "                      .head(5)\n",
    "                      .values)\n",
    "    else:\n",
    "        print(f\"{set_type} not defined as a set type\")\n",
    "        return\n",
    "    \n",
    "    return feature_set\n",
    "    \n",
    "    "
   ]
  },
  {
   "cell_type": "code",
   "execution_count": 193,
   "metadata": {},
   "outputs": [
    {
     "data": {
      "text/plain": [
       "1437"
      ]
     },
     "execution_count": 193,
     "metadata": {},
     "output_type": "execute_result"
    }
   ],
   "source": [
    "len(feature_set)"
   ]
  },
  {
   "cell_type": "markdown",
   "metadata": {},
   "source": [
    "## Make a union of all selected features from all genres"
   ]
  },
  {
   "cell_type": "markdown",
   "metadata": {},
   "source": [
    "Printing out the top 5 significant values from chi squared test, and create a complete set of imporant words across all genres."
   ]
  },
  {
   "cell_type": "code",
   "execution_count": 185,
   "metadata": {},
   "outputs": [
    {
     "name": "stdout",
     "output_type": "stream",
     "text": [
      "\n",
      "Top imporant words in comedy plots:\n",
      "[['kill' 1.3433539309140973e-09 0]\n",
      " ['stoog' 2.3299722619297473e-08 0]\n",
      " ['comedi' 6.401209828436265e-07 0]\n",
      " ['sach' 1.2162444639301198e-06 0]\n",
      " ['clouseau' 3.077718347074813e-06 0]]\n",
      "\n",
      "Top imporant words in western plots:\n",
      "[['ranch' 4.5926080669863186e-83 0]\n",
      " ['outlaw' 4.950343620314612e-74 0]\n",
      " ['cattl' 7.587231445136287e-65 0]\n",
      " ['rancher' 7.42876016161712e-58 0]\n",
      " ['apach' 8.332329070696478e-58 0]]\n",
      "\n",
      "Top imporant words in drama plots:\n",
      "[['son' 4.437905410166325e-06 0]\n",
      " ['relationship' 1.7151830427838154e-05 0]\n",
      " ['bug' 3.2530460799562416e-05 0]\n",
      " ['famili' 7.195775568577428e-05 0]\n",
      " ['creatur' 8.191745435871277e-05 0]]\n",
      "\n",
      "Top imporant words in action plots:\n",
      "[['vijay' 2.1158412853937544e-16 0]\n",
      " ['terrorist' 4.481295462907121e-13 0]\n",
      " ['singh' 4.935787244232286e-13 0]\n",
      " ['mithun' 7.568565336067456e-12 0]\n",
      " ['kill' 8.314709292838662e-12 0]]\n",
      "\n",
      "Top imporant words in thriller plots:\n",
      "[['killer' 4.975359459707027e-08 0]\n",
      " ['murder' 8.270125029301256e-07 0]\n",
      " ['vetri' 3.943186104987606e-06 0]\n",
      " ['polic' 4.524176808672975e-06 0]\n",
      " ['serial killer' 7.532068580506614e-06 0]]\n",
      "\n",
      "Top imporant words in adventure plots:\n",
      "[['tarzan' 4.9634808891924035e-56 0]\n",
      " ['pirat' 3.4526254531405775e-25 0]\n",
      " ['jungl' 1.382711683949263e-18 0]\n",
      " ['treasur' 4.827099074656833e-18 0]\n",
      " ['cruso' 3.3931597093966557e-15 0]]\n",
      "\n",
      "Top imporant words in fantasy plots:\n",
      "[['magic' 1.0707477481830278e-32 0]\n",
      " ['voldemort' 5.0178517671375317e-29 0]\n",
      " ['dumbledor' 5.933075069282947e-26 0]\n",
      " ['dragon' 1.7345241269377875e-22 0]\n",
      " ['hermion' 3.5308142196988575e-21 0]]\n"
     ]
    }
   ],
   "source": [
    "feature_set = set()\n",
    "for key in important_features_by_genre:\n",
    "    \n",
    "    [feature_set.add(feature) for feature in \n",
    "     important_features_by_genre[key]['feature']]\n",
    "    print(f\"\\nTop imporant words in {key} plots:\")\n",
    "    print(\n",
    "        important_features_by_genre[key]\n",
    "        .head(5)\n",
    "        .values) "
   ]
  },
  {
   "cell_type": "code",
   "execution_count": 186,
   "metadata": {},
   "outputs": [
    {
     "data": {
      "text/plain": [
       "1437"
      ]
     },
     "execution_count": 186,
     "metadata": {},
     "output_type": "execute_result"
    }
   ],
   "source": [
    "len(feature_set)"
   ]
  },
  {
   "cell_type": "markdown",
   "metadata": {},
   "source": [
    "# RandomForest Baseline\n",
    "\n",
    "**TODO: Test RF on all the different feature sets.**  \n",
    "Currently we are looking at bare baseline without lemmatization/stemming, or feature selection."
   ]
  },
  {
   "cell_type": "code",
   "execution_count": 110,
   "metadata": {},
   "outputs": [
    {
     "name": "stdout",
     "output_type": "stream",
     "text": [
      "36.9 µs ± 4.71 µs per loop (mean ± std. dev. of 7 runs, 10000 loops each)\n"
     ]
    }
   ],
   "source": [
    "%%timeit\n",
    "y_train[np.where(df_train.columns == 'drama')]"
   ]
  },
  {
   "cell_type": "code",
   "execution_count": 194,
   "metadata": {},
   "outputs": [
    {
     "name": "stderr",
     "output_type": "stream",
     "text": [
      "[Parallel(n_jobs=-1)]: Using backend ThreadingBackend with 8 concurrent workers.\n",
      "[Parallel(n_jobs=-1)]: Done  34 tasks      | elapsed:   11.0s\n",
      "[Parallel(n_jobs=-1)]: Done 100 out of 100 | elapsed:   26.8s finished\n"
     ]
    },
    {
     "data": {
      "text/plain": [
       "RandomForestClassifier(n_jobs=-1, verbose=1)"
      ]
     },
     "execution_count": 194,
     "metadata": {},
     "output_type": "execute_result"
    }
   ],
   "source": [
    "rf_clf = RandomForestClassifier(n_jobs=-1, verbose=1)\n",
    "y_train.shape\n",
    "rf_clf.fit(tfidf_train, y_train)"
   ]
  },
  {
   "cell_type": "code",
   "execution_count": 195,
   "metadata": {
    "scrolled": false
   },
   "outputs": [
    {
     "name": "stderr",
     "output_type": "stream",
     "text": [
      "[Parallel(n_jobs=8)]: Using backend ThreadingBackend with 8 concurrent workers.\n",
      "[Parallel(n_jobs=8)]: Done  34 tasks      | elapsed:    0.4s\n",
      "[Parallel(n_jobs=8)]: Done 100 out of 100 | elapsed:    0.9s finished\n",
      "[Parallel(n_jobs=8)]: Using backend ThreadingBackend with 8 concurrent workers.\n",
      "[Parallel(n_jobs=8)]: Done  34 tasks      | elapsed:    0.1s\n",
      "[Parallel(n_jobs=8)]: Done 100 out of 100 | elapsed:    0.3s finished\n"
     ]
    }
   ],
   "source": [
    "train_pred = rf_clf.predict(tfidf_train)\n",
    "test_pred = rf_clf.predict(tfidf_test)"
   ]
  },
  {
   "cell_type": "markdown",
   "metadata": {},
   "source": [
    "# Evaluating Multilabel models\n",
    "[Resource](https://stats.stackexchange.com/questions/12702/what-are-the-measure-for-accuracy-of-multilabel-data)"
   ]
  },
  {
   "cell_type": "markdown",
   "metadata": {},
   "source": [
    "Convert the genre matrices to string combinations and append to original dataframe for evaluation of **Training Set**"
   ]
  },
  {
   "cell_type": "code",
   "execution_count": 196,
   "metadata": {},
   "outputs": [],
   "source": [
    "genre_preds = decode_genres(train_pred, genre_list)   \n",
    "genre_actuals = decode_genres(df_train[genre_list].values, genre_list)\n",
    "df_train_results = get_results_table(df_train, genre_preds, genre_actuals)"
   ]
  },
  {
   "cell_type": "markdown",
   "metadata": {},
   "source": [
    "Perform the same decoding to evaluate the **Test Set**"
   ]
  },
  {
   "cell_type": "code",
   "execution_count": 197,
   "metadata": {},
   "outputs": [],
   "source": [
    "test_genre_preds = decode_genres(test_pred, genre_list)   \n",
    "test_genre_actuals = decode_genres(df_test[genre_list].values, genre_list)\n",
    "df_test_results = get_results_table(df_test, test_genre_preds, test_genre_actuals)"
   ]
  },
  {
   "cell_type": "markdown",
   "metadata": {},
   "source": [
    "## ExactMatchRatio\n",
    "* Disadvantage, no distinction btw complete incorrect or partially complete\n",
    "\n",
    "$$\\frac{1}{n}\\sum^n_{i=1}I(Y_i=Z_i)$$\n",
    "$$I: indicator function$$"
   ]
  },
  {
   "cell_type": "markdown",
   "metadata": {},
   "source": [
    "### Train Set"
   ]
  },
  {
   "cell_type": "code",
   "execution_count": 198,
   "metadata": {
    "scrolled": true
   },
   "outputs": [
    {
     "data": {
      "text/html": [
       "<div>\n",
       "<style scoped>\n",
       "    .dataframe tbody tr th:only-of-type {\n",
       "        vertical-align: middle;\n",
       "    }\n",
       "\n",
       "    .dataframe tbody tr th {\n",
       "        vertical-align: top;\n",
       "    }\n",
       "\n",
       "    .dataframe thead th {\n",
       "        text-align: right;\n",
       "    }\n",
       "</style>\n",
       "<table border=\"1\" class=\"dataframe\">\n",
       "  <thead>\n",
       "    <tr style=\"text-align: right;\">\n",
       "      <th></th>\n",
       "      <th>director</th>\n",
       "      <th>genre</th>\n",
       "      <th>plot</th>\n",
       "      <th>comedy</th>\n",
       "      <th>western</th>\n",
       "      <th>drama</th>\n",
       "      <th>action</th>\n",
       "      <th>thriller</th>\n",
       "      <th>adventure</th>\n",
       "      <th>fantasy</th>\n",
       "      <th>plot_clean</th>\n",
       "      <th>genre_pred</th>\n",
       "      <th>genre_actual</th>\n",
       "      <th>complete_correct</th>\n",
       "    </tr>\n",
       "  </thead>\n",
       "  <tbody>\n",
       "    <tr>\n",
       "      <th>18101</th>\n",
       "      <td>Maurice Elvey</td>\n",
       "      <td>drama</td>\n",
       "      <td>The unnamed Mademoiselle (Brody) helps her aun...</td>\n",
       "      <td>0</td>\n",
       "      <td>0</td>\n",
       "      <td>1</td>\n",
       "      <td>0</td>\n",
       "      <td>0</td>\n",
       "      <td>0</td>\n",
       "      <td>0</td>\n",
       "      <td>unnam mademoisel brodi help aunt run restaur a...</td>\n",
       "      <td>NO VALUE</td>\n",
       "      <td>drama</td>\n",
       "      <td>False</td>\n",
       "    </tr>\n",
       "    <tr>\n",
       "      <th>20431</th>\n",
       "      <td>John Boorman</td>\n",
       "      <td>drama</td>\n",
       "      <td>Bill Markham (Powers Boothe) is an engineer wh...</td>\n",
       "      <td>0</td>\n",
       "      <td>0</td>\n",
       "      <td>1</td>\n",
       "      <td>0</td>\n",
       "      <td>0</td>\n",
       "      <td>0</td>\n",
       "      <td>0</td>\n",
       "      <td>bill markham power booth engin move brazil fam...</td>\n",
       "      <td>NO VALUE</td>\n",
       "      <td>drama</td>\n",
       "      <td>False</td>\n",
       "    </tr>\n",
       "    <tr>\n",
       "      <th>32526</th>\n",
       "      <td>Balaji Mohan</td>\n",
       "      <td>romance</td>\n",
       "      <td>Arun (Siddharth) and Parvathi (Amala Paul) giv...</td>\n",
       "      <td>0</td>\n",
       "      <td>0</td>\n",
       "      <td>0</td>\n",
       "      <td>0</td>\n",
       "      <td>0</td>\n",
       "      <td>0</td>\n",
       "      <td>0</td>\n",
       "      <td>arun siddharth parvathi amala paul give interv...</td>\n",
       "      <td>comedy</td>\n",
       "      <td>NO VALUE</td>\n",
       "      <td>False</td>\n",
       "    </tr>\n",
       "  </tbody>\n",
       "</table>\n",
       "</div>"
      ],
      "text/plain": [
       "            director    genre  \\\n",
       "18101  Maurice Elvey    drama   \n",
       "20431   John Boorman    drama   \n",
       "32526   Balaji Mohan  romance   \n",
       "\n",
       "                                                    plot  comedy  western  \\\n",
       "18101  The unnamed Mademoiselle (Brody) helps her aun...       0        0   \n",
       "20431  Bill Markham (Powers Boothe) is an engineer wh...       0        0   \n",
       "32526  Arun (Siddharth) and Parvathi (Amala Paul) giv...       0        0   \n",
       "\n",
       "       drama  action  thriller  adventure  fantasy  \\\n",
       "18101      1       0         0          0        0   \n",
       "20431      1       0         0          0        0   \n",
       "32526      0       0         0          0        0   \n",
       "\n",
       "                                              plot_clean genre_pred  \\\n",
       "18101  unnam mademoisel brodi help aunt run restaur a...   NO VALUE   \n",
       "20431  bill markham power booth engin move brazil fam...   NO VALUE   \n",
       "32526  arun siddharth parvathi amala paul give interv...     comedy   \n",
       "\n",
       "      genre_actual  complete_correct  \n",
       "18101        drama             False  \n",
       "20431        drama             False  \n",
       "32526     NO VALUE             False  "
      ]
     },
     "execution_count": 198,
     "metadata": {},
     "output_type": "execute_result"
    }
   ],
   "source": [
    "# Failed cases: completely correct\n",
    "df_train_results.query(\"complete_correct == False\").head(3)"
   ]
  },
  {
   "cell_type": "code",
   "execution_count": 199,
   "metadata": {
    "scrolled": false
   },
   "outputs": [
    {
     "data": {
      "text/html": [
       "<div>\n",
       "<style scoped>\n",
       "    .dataframe tbody tr th:only-of-type {\n",
       "        vertical-align: middle;\n",
       "    }\n",
       "\n",
       "    .dataframe tbody tr th {\n",
       "        vertical-align: top;\n",
       "    }\n",
       "\n",
       "    .dataframe thead th {\n",
       "        text-align: right;\n",
       "    }\n",
       "</style>\n",
       "<table border=\"1\" class=\"dataframe\">\n",
       "  <thead>\n",
       "    <tr style=\"text-align: right;\">\n",
       "      <th></th>\n",
       "      <th>complete_correct</th>\n",
       "    </tr>\n",
       "  </thead>\n",
       "  <tbody>\n",
       "    <tr>\n",
       "      <th>count</th>\n",
       "      <td>21602.000000</td>\n",
       "    </tr>\n",
       "    <tr>\n",
       "      <th>sum</th>\n",
       "      <td>21470.000000</td>\n",
       "    </tr>\n",
       "    <tr>\n",
       "      <th>mean</th>\n",
       "      <td>0.993889</td>\n",
       "    </tr>\n",
       "  </tbody>\n",
       "</table>\n",
       "</div>"
      ],
      "text/plain": [
       "       complete_correct\n",
       "count      21602.000000\n",
       "sum        21470.000000\n",
       "mean           0.993889"
      ]
     },
     "execution_count": 199,
     "metadata": {},
     "output_type": "execute_result"
    }
   ],
   "source": [
    "df_train_results.agg({\"complete_correct\": ['count', \"sum\", \"mean\"]})"
   ]
  },
  {
   "cell_type": "markdown",
   "metadata": {},
   "source": [
    "Out of 21,602 records, 21475 were completely correct in predictions\n",
    "Resulting in 0.99 accuracy"
   ]
  },
  {
   "cell_type": "markdown",
   "metadata": {},
   "source": [
    "### Test Set"
   ]
  },
  {
   "cell_type": "code",
   "execution_count": 200,
   "metadata": {
    "scrolled": false
   },
   "outputs": [
    {
     "data": {
      "text/html": [
       "<div>\n",
       "<style scoped>\n",
       "    .dataframe tbody tr th:only-of-type {\n",
       "        vertical-align: middle;\n",
       "    }\n",
       "\n",
       "    .dataframe tbody tr th {\n",
       "        vertical-align: top;\n",
       "    }\n",
       "\n",
       "    .dataframe thead th {\n",
       "        text-align: right;\n",
       "    }\n",
       "</style>\n",
       "<table border=\"1\" class=\"dataframe\">\n",
       "  <thead>\n",
       "    <tr style=\"text-align: right;\">\n",
       "      <th></th>\n",
       "      <th>director</th>\n",
       "      <th>genre</th>\n",
       "      <th>plot</th>\n",
       "      <th>comedy</th>\n",
       "      <th>western</th>\n",
       "      <th>drama</th>\n",
       "      <th>action</th>\n",
       "      <th>thriller</th>\n",
       "      <th>adventure</th>\n",
       "      <th>fantasy</th>\n",
       "      <th>plot_clean</th>\n",
       "      <th>genre_pred</th>\n",
       "      <th>genre_actual</th>\n",
       "      <th>complete_correct</th>\n",
       "    </tr>\n",
       "  </thead>\n",
       "  <tbody>\n",
       "    <tr>\n",
       "      <th>2199</th>\n",
       "      <td>William Wyler</td>\n",
       "      <td>drama, crime</td>\n",
       "      <td>In the slums of New York, on the East River ju...</td>\n",
       "      <td>0</td>\n",
       "      <td>0</td>\n",
       "      <td>1</td>\n",
       "      <td>0</td>\n",
       "      <td>0</td>\n",
       "      <td>0</td>\n",
       "      <td>0</td>\n",
       "      <td>slum new york east river queensboro bridg weal...</td>\n",
       "      <td>NO VALUE</td>\n",
       "      <td>drama</td>\n",
       "      <td>False</td>\n",
       "    </tr>\n",
       "    <tr>\n",
       "      <th>12804</th>\n",
       "      <td>Jon Turteltaub</td>\n",
       "      <td>drama</td>\n",
       "      <td>George Malley is a kind but average auto mecha...</td>\n",
       "      <td>0</td>\n",
       "      <td>0</td>\n",
       "      <td>1</td>\n",
       "      <td>0</td>\n",
       "      <td>0</td>\n",
       "      <td>0</td>\n",
       "      <td>0</td>\n",
       "      <td>georg malley kind averag auto mechan small tow...</td>\n",
       "      <td>NO VALUE</td>\n",
       "      <td>drama</td>\n",
       "      <td>False</td>\n",
       "    </tr>\n",
       "    <tr>\n",
       "      <th>8149</th>\n",
       "      <td>George Sidney</td>\n",
       "      <td>comedy</td>\n",
       "      <td>Kelly Olsson is an aspiring writer, but Girl-L...</td>\n",
       "      <td>1</td>\n",
       "      <td>0</td>\n",
       "      <td>0</td>\n",
       "      <td>0</td>\n",
       "      <td>0</td>\n",
       "      <td>0</td>\n",
       "      <td>0</td>\n",
       "      <td>kelli olsson aspir writer girllur magazin keep...</td>\n",
       "      <td>NO VALUE</td>\n",
       "      <td>comedy</td>\n",
       "      <td>False</td>\n",
       "    </tr>\n",
       "  </tbody>\n",
       "</table>\n",
       "</div>"
      ],
      "text/plain": [
       "             director         genre  \\\n",
       "2199    William Wyler  drama, crime   \n",
       "12804  Jon Turteltaub         drama   \n",
       "8149    George Sidney        comedy   \n",
       "\n",
       "                                                    plot  comedy  western  \\\n",
       "2199   In the slums of New York, on the East River ju...       0        0   \n",
       "12804  George Malley is a kind but average auto mecha...       0        0   \n",
       "8149   Kelly Olsson is an aspiring writer, but Girl-L...       1        0   \n",
       "\n",
       "       drama  action  thriller  adventure  fantasy  \\\n",
       "2199       1       0         0          0        0   \n",
       "12804      1       0         0          0        0   \n",
       "8149       0       0         0          0        0   \n",
       "\n",
       "                                              plot_clean genre_pred  \\\n",
       "2199   slum new york east river queensboro bridg weal...   NO VALUE   \n",
       "12804  georg malley kind averag auto mechan small tow...   NO VALUE   \n",
       "8149   kelli olsson aspir writer girllur magazin keep...   NO VALUE   \n",
       "\n",
       "      genre_actual  complete_correct  \n",
       "2199         drama             False  \n",
       "12804        drama             False  \n",
       "8149        comedy             False  "
      ]
     },
     "execution_count": 200,
     "metadata": {},
     "output_type": "execute_result"
    }
   ],
   "source": [
    "df_test_results.query(\"complete_correct == False\").head(3)"
   ]
  },
  {
   "cell_type": "code",
   "execution_count": 201,
   "metadata": {
    "scrolled": true
   },
   "outputs": [
    {
     "data": {
      "text/html": [
       "<div>\n",
       "<style scoped>\n",
       "    .dataframe tbody tr th:only-of-type {\n",
       "        vertical-align: middle;\n",
       "    }\n",
       "\n",
       "    .dataframe tbody tr th {\n",
       "        vertical-align: top;\n",
       "    }\n",
       "\n",
       "    .dataframe thead th {\n",
       "        text-align: right;\n",
       "    }\n",
       "</style>\n",
       "<table border=\"1\" class=\"dataframe\">\n",
       "  <thead>\n",
       "    <tr style=\"text-align: right;\">\n",
       "      <th></th>\n",
       "      <th>complete_correct</th>\n",
       "    </tr>\n",
       "  </thead>\n",
       "  <tbody>\n",
       "    <tr>\n",
       "      <th>count</th>\n",
       "      <td>7201.000000</td>\n",
       "    </tr>\n",
       "    <tr>\n",
       "      <th>sum</th>\n",
       "      <td>2277.000000</td>\n",
       "    </tr>\n",
       "    <tr>\n",
       "      <th>mean</th>\n",
       "      <td>0.316206</td>\n",
       "    </tr>\n",
       "  </tbody>\n",
       "</table>\n",
       "</div>"
      ],
      "text/plain": [
       "       complete_correct\n",
       "count       7201.000000\n",
       "sum         2277.000000\n",
       "mean           0.316206"
      ]
     },
     "execution_count": 201,
     "metadata": {},
     "output_type": "execute_result"
    }
   ],
   "source": [
    "df_test_results.agg({\"complete_correct\": ['count', \"sum\", \"mean\"]})"
   ]
  },
  {
   "cell_type": "markdown",
   "metadata": {},
   "source": [
    "Out of 7,201 records, 2,253 were completely correct in predictions Resulting in 0.31 accuracy  \n",
    "(**Note** this improved from 0.30 accuracy to 0.31 accuracy after adding `min_df=5` to the TFIDF vectorizer)"
   ]
  },
  {
   "cell_type": "markdown",
   "metadata": {},
   "source": [
    "## Acurracy\n",
    "Proprotion of predicted correct labels to total number (pred and actual) of labels for instance  \n",
    "Overall Accuracy over all instances  \n",
    "$$\\frac{1}{n} \\sum^n_{i=1} \\frac{| Y_i \\cap Z_i |}{| Y_i \\cup Z_i |} $$"
   ]
  },
  {
   "cell_type": "markdown",
   "metadata": {},
   "source": [
    "## Precision\n",
    "Proporiton of predicted correct labels to total number of actual labels  \n",
    "$$\\frac{1}{n} \\sum^n_{i=1} \\frac{| Y_i \\cap Z_i |}{|Z_i |} $$"
   ]
  },
  {
   "cell_type": "markdown",
   "metadata": {},
   "source": [
    "## Recall\n",
    "Proportion of predicted correct labels to tot num of predicted labels\n",
    "$$\\frac{1}{n} \\sum^n_{i=1} \\frac{| Y_i \\cap Z_i |}{| Y_i |} $$"
   ]
  },
  {
   "cell_type": "markdown",
   "metadata": {},
   "source": [
    "## F1-Measure\n",
    "Harmonic mean of Prec and Recall\n",
    "\n",
    "$$\\frac{1}{n} \\sum^n_{i=1} \\frac{2 | Y_i \\cap Z_i |}{| Y_i | + | Z_i |} $$"
   ]
  },
  {
   "cell_type": "markdown",
   "metadata": {},
   "source": [
    "# Feature Importance"
   ]
  },
  {
   "cell_type": "code",
   "execution_count": 202,
   "metadata": {
    "scrolled": false
   },
   "outputs": [
    {
     "name": "stdout",
     "output_type": "stream",
     "text": [
      "1. killed:  2.90e-4\n",
      "2. kill:  2.56e-4\n",
      "3. life:  2.51e-4\n",
      "4. kills:  2.47e-4\n",
      "5. death:  2.21e-4\n",
      "6. police:  2.04e-4\n",
      "7. son:  1.95e-4\n",
      "8. love:  1.82e-4\n",
      "9. young:  1.80e-4\n",
      "10. family:  1.78e-4\n",
      "11. home:  1.77e-4\n",
      "12. wife:  1.75e-4\n",
      "13. father:  1.69e-4\n",
      "14. husband:  1.65e-4\n",
      "15. story:  1.64e-4\n",
      "16. film:  1.64e-4\n",
      "17. relationship:  1.61e-4\n",
      "18. man:  1.59e-4\n",
      "19. new:  1.59e-4\n",
      "20. mother:  1.52e-4\n"
     ]
    }
   ],
   "source": [
    "class_labels = genre_list\n",
    "feature_names = tfidf_vectorizer.get_feature_names()\n",
    "feat_with_weights = sorted(zip(rf_clf.feature_importances_, feature_names), reverse=True)\n",
    "\n",
    "# Print first class label (comedy) and top 20 feat with weights entries\n",
    "i = 0\n",
    "for score, word in feat_with_weights[:20]:\n",
    "    i += 1\n",
    "    print(f\"{i}. {word}: {np.round(score, 5) * 1000: .2f}e-4\")"
   ]
  },
  {
   "cell_type": "markdown",
   "metadata": {},
   "source": [
    "# Export to HTML"
   ]
  },
  {
   "cell_type": "code",
   "execution_count": 203,
   "metadata": {},
   "outputs": [
    {
     "data": {
      "text/plain": [
       "0"
      ]
     },
     "execution_count": 203,
     "metadata": {},
     "output_type": "execute_result"
    }
   ],
   "source": [
    "os.system('jupyter nbconvert --to html \"MovieGenreClassification.ipynb\"')"
   ]
  },
  {
   "cell_type": "markdown",
   "metadata": {},
   "source": [
    "# Resources and Notes"
   ]
  },
  {
   "cell_type": "markdown",
   "metadata": {},
   "source": [
    "https://towardsdatascience.com/text-classification-with-nlp-tf-idf-vs-word2vec-vs-bert-41ff868d1794"
   ]
  },
  {
   "cell_type": "markdown",
   "metadata": {},
   "source": [
    "* Downloaded movie genre file from [here](https://www.kaggle.com/jrobischon/wikipedia-movie-plots?select=wiki_movie_plots_deduped.csv)  \n",
    "* uploaded to GCS bucket [gs://jvschoen_movie_nlp](https://console.cloud.google.com/storage/browser/jvschoen_movie_nlp?project=website-jvschoen)\n",
    "* replaced double quotes, because issue with BigQuery not reading the file using [sed](https://www.cyberciti.biz/faq/how-to-use-sed-to-find-and-replace-text-in-files-in-linux-unix-shell/)  \n",
    "```linux\n",
    "gsutil cp gs://jvschoen_movie_nlp/movie_genres.csv ./\n",
    "sed 's/\"//g' movie_genres.csv > movie_genres.csv\n",
    "gsutil cp ./movie_genres.csv gs://jvschoen_movie_nlp/movie_genres.csv\n",
    "rm movie_genres.csv\n",
    "```\n",
    "* Loaded into BigQuery  \n",
    "```\n",
    "bq load \\\n",
    "    --source_format=CSV \\\n",
    "    --autodetect \\\n",
    "    --allow_quoted_newlines \\\n",
    "    --skip_leading_rows=1 \\\n",
    "    nlp_movie.wiki_movie \\\n",
    "    gs://jvschoen_movie_nlp/wiki-movie.csv \n",
    "```"
   ]
  },
  {
   "cell_type": "code",
   "execution_count": null,
   "metadata": {},
   "outputs": [],
   "source": []
  }
 ],
 "metadata": {
  "kernelspec": {
   "display_name": "datacamp",
   "language": "python",
   "name": "datacamp"
  },
  "language_info": {
   "codemirror_mode": {
    "name": "ipython",
    "version": 3
   },
   "file_extension": ".py",
   "mimetype": "text/x-python",
   "name": "python",
   "nbconvert_exporter": "python",
   "pygments_lexer": "ipython3",
   "version": "3.7.6"
  }
 },
 "nbformat": 4,
 "nbformat_minor": 4
}
